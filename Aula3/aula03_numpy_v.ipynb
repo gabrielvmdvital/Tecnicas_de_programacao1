{
 "cells": [
  {
   "cell_type": "code",
   "execution_count": 1,
   "metadata": {},
   "outputs": [],
   "source": [
    "import numpy as np"
   ]
  },
  {
   "cell_type": "code",
   "execution_count": 18,
   "metadata": {},
   "outputs": [],
   "source": [
    "matriz =np.loadtxt(\"./dados/dados_artificiais.txt\",skiprows=1, usecols=(1,2,3) )"
   ]
  },
  {
   "cell_type": "code",
   "execution_count": 19,
   "metadata": {},
   "outputs": [
    {
     "data": {
      "text/plain": [
       "array([[ 1.788811, 65.648102,  0.      ],\n",
       "       [ 1.566784, 76.642768,  0.      ],\n",
       "       [ 2.092193, 55.468185,  1.      ],\n",
       "       [ 1.782471, 67.281997,  1.      ],\n",
       "       [ 1.735767, 69.289008,  0.      ],\n",
       "       [ 1.686975, 56.840051,  0.      ],\n",
       "       [ 1.797105, 65.208973,  1.      ],\n",
       "       [ 1.187349, 48.164764,  0.      ],\n",
       "       [ 1.595891, 45.410648,  1.      ],\n",
       "       [ 1.396282, 67.930113,  0.      ],\n",
       "       [ 1.606148, 67.719604,  0.      ],\n",
       "       [ 1.70759 , 45.609333,  0.      ],\n",
       "       [ 1.735513, 64.845452,  0.      ],\n",
       "       [ 1.672055, 39.705952,  1.      ],\n",
       "       [ 1.723377, 50.05888 ,  1.      ],\n",
       "       [ 1.684574, 56.545087,  1.      ],\n",
       "       [ 1.733259, 37.512188,  0.      ],\n",
       "       [ 1.7579  , 57.362422,  0.      ],\n",
       "       [ 1.913338, 69.307246,  1.      ],\n",
       "       [ 1.456048, 69.342337,  0.      ]])"
      ]
     },
     "execution_count": 19,
     "metadata": {},
     "output_type": "execute_result"
    }
   ],
   "source": [
    "matriz"
   ]
  },
  {
   "cell_type": "markdown",
   "metadata": {},
   "source": [
    "Agora utilize esta matriz para calcular o IMC, utilizando a equação\n",
    "\n",
    "```\n",
    "IMC = peso / altura**2\n",
    "```\n",
    "e insira na nova tabela"
   ]
  },
  {
   "cell_type": "code",
   "execution_count": 20,
   "metadata": {},
   "outputs": [
    {
     "data": {
      "text/plain": [
       "[20.516026942563006,\n",
       " 31.221439684559105,\n",
       " 12.671862911844382,\n",
       " 21.176487571306087,\n",
       " 22.9975456097574,\n",
       " 19.972717793575036,\n",
       " 20.191122114932906,\n",
       " 34.16431008742802,\n",
       " 17.829996098895624,\n",
       " 34.84304150287812,\n",
       " 26.250844980187235,\n",
       " 15.641792322967879,\n",
       " 21.52899612253168,\n",
       " 14.202163088357656,\n",
       " 16.854681239064504,\n",
       " 19.925750579824385,\n",
       " 12.486636478786007,\n",
       " 18.56261460033422,\n",
       " 18.931945612244615,\n",
       " 32.707480416323556]"
      ]
     },
     "execution_count": 20,
     "metadata": {},
     "output_type": "execute_result"
    }
   ],
   "source": [
    "calc_imc = [matriz[i][1]/(matriz[i][0]**2)  for i in range(len(matriz))]\n",
    "calc_imc"
   ]
  },
  {
   "cell_type": "code",
   "execution_count": 21,
   "metadata": {},
   "outputs": [
    {
     "data": {
      "text/plain": [
       "array([[ 1.788811  , 65.648102  ,  0.        , 20.51602694],\n",
       "       [ 1.566784  , 76.642768  ,  0.        , 31.22143968],\n",
       "       [ 2.092193  , 55.468185  ,  1.        , 12.67186291],\n",
       "       [ 1.782471  , 67.281997  ,  1.        , 21.17648757],\n",
       "       [ 1.735767  , 69.289008  ,  0.        , 22.99754561],\n",
       "       [ 1.686975  , 56.840051  ,  0.        , 19.97271779],\n",
       "       [ 1.797105  , 65.208973  ,  1.        , 20.19112211],\n",
       "       [ 1.187349  , 48.164764  ,  0.        , 34.16431009],\n",
       "       [ 1.595891  , 45.410648  ,  1.        , 17.8299961 ],\n",
       "       [ 1.396282  , 67.930113  ,  0.        , 34.8430415 ],\n",
       "       [ 1.606148  , 67.719604  ,  0.        , 26.25084498],\n",
       "       [ 1.70759   , 45.609333  ,  0.        , 15.64179232],\n",
       "       [ 1.735513  , 64.845452  ,  0.        , 21.52899612],\n",
       "       [ 1.672055  , 39.705952  ,  1.        , 14.20216309],\n",
       "       [ 1.723377  , 50.05888   ,  1.        , 16.85468124],\n",
       "       [ 1.684574  , 56.545087  ,  1.        , 19.92575058],\n",
       "       [ 1.733259  , 37.512188  ,  0.        , 12.48663648],\n",
       "       [ 1.7579    , 57.362422  ,  0.        , 18.5626146 ],\n",
       "       [ 1.913338  , 69.307246  ,  1.        , 18.93194561],\n",
       "       [ 1.456048  , 69.342337  ,  0.        , 32.70748042]])"
      ]
     },
     "execution_count": 21,
     "metadata": {},
     "output_type": "execute_result"
    }
   ],
   "source": [
    "imc_list = list()\n",
    "for pessoa in matriz:\n",
    "    peso = pessoa[1]\n",
    "    altura = pessoa[0]\n",
    "    IMC = (peso/altura**2)\n",
    "    imc_list.append(IMC)\n",
    "\n",
    "imc_array = np.array(imc_list)\n",
    "\n",
    "new_table = np.concatenate((matriz, imc_array.reshape(-1,1)), axis=1)\n",
    "\n",
    "new_table"
   ]
  },
  {
   "cell_type": "code",
   "execution_count": 22,
   "metadata": {},
   "outputs": [
    {
     "data": {
      "text/plain": [
       "array([[20.51602694],\n",
       "       [31.22143968],\n",
       "       [12.67186291],\n",
       "       [21.17648757],\n",
       "       [22.99754561],\n",
       "       [19.97271779],\n",
       "       [20.19112211],\n",
       "       [34.16431009],\n",
       "       [17.8299961 ],\n",
       "       [34.8430415 ],\n",
       "       [26.25084498],\n",
       "       [15.64179232],\n",
       "       [21.52899612],\n",
       "       [14.20216309],\n",
       "       [16.85468124],\n",
       "       [19.92575058],\n",
       "       [12.48663648],\n",
       "       [18.5626146 ],\n",
       "       [18.93194561],\n",
       "       [32.70748042]])"
      ]
     },
     "execution_count": 22,
     "metadata": {},
     "output_type": "execute_result"
    }
   ],
   "source": [
    "imc = np.array([peso/altura**2 for altura,peso,sexo in matriz])\n",
    "imc = imc.reshape(20,1)\n",
    "imc"
   ]
  },
  {
   "cell_type": "markdown",
   "metadata": {},
   "source": [
    "| IMC             | Categoria           |   |\n",
    "|-----------------|---------------------|---|\n",
    "| abaixo de 16,00 | Baixo peso Grau III |   |\n",
    "| 16,00 a 16,99   | Baixo peso Grau II  |   |\n",
    "| 17,00 a 18.49   | Baixo peso Grau I   |   |\n",
    "| 18,50 a 24,99   | Peso ideal          |   |\n",
    "| 25,00 a 29,99   | Sobrepeso           |   |\n",
    "| 30,00 a 34,99   | Obesidade Grau I    |   |\n",
    "| 35,00 a 39,99   | Obesidade Grau II   |   |\n",
    "| 40,0 e acima    | Obesidade Grau III  |   |\n",
    "\n",
    "Agora utilize a tabela acima para indicar a qual categoria cada valor de IMC se enquadra. Insira novamente na tabela."
   ]
  },
  {
   "cell_type": "code",
   "execution_count": 23,
   "metadata": {},
   "outputs": [
    {
     "data": {
      "text/plain": [
       "array([['1.788811', '65.648102', '0.0', '20.516026942563006',\n",
       "        'Peso ideal'],\n",
       "       ['1.566784', '76.642768', '0.0', '31.221439684559105',\n",
       "        'Obesidade GRAU I'],\n",
       "       ['2.092193', '55.468185', '1.0', '12.671862911844382',\n",
       "        'Baixo peso Grau III'],\n",
       "       ['1.782471', '67.281997', '1.0', '21.176487571306087',\n",
       "        'Peso ideal'],\n",
       "       ['1.735767', '69.289008', '0.0', '22.9975456097574', 'Peso ideal'],\n",
       "       ['1.686975', '56.840051', '0.0', '19.972717793575036',\n",
       "        'Peso ideal'],\n",
       "       ['1.797105', '65.208973', '1.0', '20.191122114932906',\n",
       "        'Peso ideal'],\n",
       "       ['1.187349', '48.164764', '0.0', '34.16431008742802',\n",
       "        'Obesidade GRAU I'],\n",
       "       ['1.595891', '45.410648', '1.0', '17.829996098895624',\n",
       "        'Baixo peso Grau I'],\n",
       "       ['1.396282', '67.930113', '0.0', '34.84304150287812',\n",
       "        'Obesidade GRAU I'],\n",
       "       ['1.606148', '67.719604', '0.0', '26.250844980187235',\n",
       "        'Sobrepeso'],\n",
       "       ['1.70759', '45.609333', '0.0', '15.641792322967879',\n",
       "        'Baixo peso Grau III'],\n",
       "       ['1.735513', '64.845452', '0.0', '21.52899612253168',\n",
       "        'Peso ideal'],\n",
       "       ['1.672055', '39.705952', '1.0', '14.202163088357656',\n",
       "        'Baixo peso Grau III'],\n",
       "       ['1.723377', '50.05888', '1.0', '16.854681239064504',\n",
       "        'Baixo peso Grau II'],\n",
       "       ['1.684574', '56.545087', '1.0', '19.925750579824385',\n",
       "        'Peso ideal'],\n",
       "       ['1.733259', '37.512188', '0.0', '12.486636478786007',\n",
       "        'Baixo peso Grau III'],\n",
       "       ['1.7579', '57.362422', '0.0', '18.56261460033422', 'Peso ideal'],\n",
       "       ['1.913338', '69.307246', '1.0', '18.931945612244615',\n",
       "        'Peso ideal'],\n",
       "       ['1.456048', '69.342337', '0.0', '32.707480416323556',\n",
       "        'Obesidade GRAU I']], dtype='<U32')"
      ]
     },
     "execution_count": 23,
     "metadata": {},
     "output_type": "execute_result"
    }
   ],
   "source": [
    "#Caio\n",
    "category_list = []\n",
    "for pessoa in new_table:\n",
    "    imc = pessoa[-1]\n",
    "    if imc < 16:\n",
    "        category_list.append('Baixo peso Grau III')\n",
    "    elif imc >= 16 and imc < 16.99:\n",
    "        category_list.append('Baixo peso Grau II')\n",
    "    elif imc >= 17 and imc < 18.49:\n",
    "        category_list.append('Baixo peso Grau I')\n",
    "    elif imc >= 18.5 and imc < 24.99:\n",
    "        category_list.append('Peso ideal')\n",
    "    elif imc >= 25 and imc < 29.99:\n",
    "        category_list.append('Sobrepeso')\n",
    "    elif imc >= 30 and imc < 34.99:\n",
    "        category_list.append('Obesidade GRAU I')\n",
    "    elif imc >= 35 and imc < 39.99:\n",
    "        category_list.append('Obesidade GRAU II')\n",
    "    elif imc >= 40:\n",
    "        category_list.append('Obesidade GRAU III')\n",
    "\n",
    "category_array = np.array(category_list)\n",
    "final_table = np.concatenate((new_table, category_array.reshape(-1,1)), axis=1)\n",
    "\n",
    "final_table"
   ]
  },
  {
   "cell_type": "code",
   "execution_count": 24,
   "metadata": {},
   "outputs": [
    {
     "data": {
      "text/plain": [
       "array([['1.788811', '65.648102', '0.0', 'Peso ideal'],\n",
       "       ['1.566784', '76.642768', '0.0', 'Obesidade Grau I'],\n",
       "       ['2.092193', '55.468185', '1.0', 'Baixo peso Grau III'],\n",
       "       ['1.782471', '67.281997', '1.0', 'Peso ideal'],\n",
       "       ['1.735767', '69.289008', '0.0', 'Peso ideal'],\n",
       "       ['1.686975', '56.840051', '0.0', 'Peso ideal'],\n",
       "       ['1.797105', '65.208973', '1.0', 'Peso ideal'],\n",
       "       ['1.187349', '48.164764', '0.0', 'Obesidade Grau I'],\n",
       "       ['1.595891', '45.410648', '1.0', 'Baixo peso Grau I'],\n",
       "       ['1.396282', '67.930113', '0.0', 'Obesidade Grau I'],\n",
       "       ['1.606148', '67.719604', '0.0', 'Sobrepeso'],\n",
       "       ['1.70759', '45.609333', '0.0', 'Baixo peso Grau III'],\n",
       "       ['1.735513', '64.845452', '0.0', 'Peso ideal'],\n",
       "       ['1.672055', '39.705952', '1.0', 'Baixo peso Grau III'],\n",
       "       ['1.723377', '50.05888', '1.0', 'Baixo peso Grau II'],\n",
       "       ['1.684574', '56.545087', '1.0', 'Peso ideal'],\n",
       "       ['1.733259', '37.512188', '0.0', 'Baixo peso Grau III'],\n",
       "       ['1.7579', '57.362422', '0.0', 'Peso ideal'],\n",
       "       ['1.913338', '69.307246', '1.0', 'Peso ideal'],\n",
       "       ['1.456048', '69.342337', '0.0', 'Obesidade Grau I']], dtype='<U32')"
      ]
     },
     "execution_count": 24,
     "metadata": {},
     "output_type": "execute_result"
    }
   ],
   "source": [
    "# Dário\n",
    "categoria = []\n",
    "for imc in calc_imc:\n",
    "    if imc < 16:\n",
    "        categoria.append('Baixo peso Grau III')\n",
    "    elif imc <= 16.99:\n",
    "        categoria.append('Baixo peso Grau II')\n",
    "    elif imc <= 18.49:\n",
    "        categoria.append('Baixo peso Grau I')\n",
    "    elif imc <= 24.99:\n",
    "        categoria.append('Peso ideal')\n",
    "    elif imc <= 29.99:\n",
    "        categoria.append('Sobrepeso')\n",
    "    elif imc <= 34.99:\n",
    "        categoria.append('Obesidade Grau I')\n",
    "    elif imc <= 39.99:\n",
    "        categoria.append('Obesidade Grau II')\n",
    "    else:\n",
    "        categoria.append('Obesidade Grau III')\n",
    "        \n",
    "categoria = np.array(categoria).reshape((len(categoria)), 1)\n",
    "\n",
    "matriz_final = np.append(matriz, categoria, axis=1)\n",
    "matriz_final"
   ]
  }
 ],
 "metadata": {
  "kernelspec": {
   "display_name": "Python 3",
   "language": "python",
   "name": "python3"
  },
  "language_info": {
   "codemirror_mode": {
    "name": "ipython",
    "version": 3
   },
   "file_extension": ".py",
   "mimetype": "text/x-python",
   "name": "python",
   "nbconvert_exporter": "python",
   "pygments_lexer": "ipython3",
   "version": "3.11.4"
  }
 },
 "nbformat": 4,
 "nbformat_minor": 2
}
